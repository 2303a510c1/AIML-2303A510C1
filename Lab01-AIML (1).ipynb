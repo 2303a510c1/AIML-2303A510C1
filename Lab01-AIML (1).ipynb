{
 "cells": [
  {
   "cell_type": "markdown",
   "id": "b50d918d",
   "metadata": {},
   "source": [
    "## Lab01- Implement basic data structures of Numpy, Pandas, Matplotlib and Access Data from sources \n",
    "### Dr. Kiran Eranki"
   ]
  },
  {
   "cell_type": "markdown",
   "id": "0128a62e",
   "metadata": {},
   "source": [
    "### Part 01: Lab Task is implement the following data structures using Numpy and Pandas.**\n",
    "1. Lists\n",
    "2. Arrays\n",
    "3. Identify their type using type()\n",
    "4. Perform mathematical operations on these datasets created - multiplication, division, poweroff\n",
    "5. Combine text with Numpy fuction to generate a textual output - ”Addition of Two: array1 +array 2\n",
    "6. Implement np.sin(), log(), log2(), np.exp())"
   ]
  },
  {
   "cell_type": "code",
   "execution_count": 1,
   "id": "53ac920a",
   "metadata": {},
   "outputs": [
    {
     "data": {
      "text/plain": [
       "array([1, 2, 3])"
      ]
     },
     "execution_count": 1,
     "metadata": {},
     "output_type": "execute_result"
    }
   ],
   "source": [
    "import numpy as np\n",
    "lst1=[1,2,3]\n",
    "array1 = np.array(lst1)\n",
    "array1"
   ]
  },
  {
   "cell_type": "code",
   "execution_count": 2,
   "id": "e40e19b2",
   "metadata": {},
   "outputs": [
    {
     "data": {
      "text/plain": [
       "list"
      ]
     },
     "execution_count": 2,
     "metadata": {},
     "output_type": "execute_result"
    }
   ],
   "source": [
    "type(lst1)"
   ]
  },
  {
   "cell_type": "code",
   "execution_count": 3,
   "id": "b44611f1",
   "metadata": {},
   "outputs": [
    {
     "data": {
      "text/plain": [
       "numpy.ndarray"
      ]
     },
     "execution_count": 3,
     "metadata": {},
     "output_type": "execute_result"
    }
   ],
   "source": [
    "type(array1)"
   ]
  },
  {
   "cell_type": "markdown",
   "id": "3b08fedd",
   "metadata": {},
   "source": [
    "***Perform Mathematical Operations on these datasets - Multiplication, Division, Poweroff***"
   ]
  },
  {
   "cell_type": "code",
   "execution_count": 4,
   "id": "25f1b5f3",
   "metadata": {},
   "outputs": [
    {
     "data": {
      "text/plain": [
       "array([3, 2, 1])"
      ]
     },
     "execution_count": 4,
     "metadata": {},
     "output_type": "execute_result"
    }
   ],
   "source": [
    "list2=[3,2,1]\n",
    "array2=np.array(list2)\n",
    "array2"
   ]
  },
  {
   "cell_type": "code",
   "execution_count": 6,
   "id": "cbbb5ca5",
   "metadata": {},
   "outputs": [
    {
     "name": "stdout",
     "output_type": "stream",
     "text": [
      "array2 multiplied by array1:  [3 4 3]\n",
      "array2 divided by array1:  [3.         1.         0.33333333]\n",
      "array2 raised to the power of array1:  [3 4 1]\n",
      " [3 2 1] raised to the power of [1 2 3]:,[3 4 1]\n"
     ]
    }
   ],
   "source": [
    "print(\"array2 multiplied by array1: \",array1*array2)\n",
    "print(\"array2 divided by array1: \",array2/array1)\n",
    "print(\"array2 raised to the power of array1: \",array2**array1)\n",
    "print(f\" {array2} raised to the power of {array1}:,{array2**array1}\")"
   ]
  },
  {
   "cell_type": "code",
   "execution_count": 7,
   "id": "208e5e57",
   "metadata": {},
   "outputs": [
    {
     "name": "stdout",
     "output_type": "stream",
     "text": [
      "Sine:  [0.84147098 0.90929743 0.14112001]\n",
      "Natural logarithm:  [0.         0.69314718 1.09861229]\n",
      "Base-10 logarithm:  [0.         0.30103    0.47712125]\n",
      "Base-2 logarithm:  [0.        1.        1.5849625]\n",
      "Exponential:  [ 2.71828183  7.3890561  20.08553692]\n"
     ]
    }
   ],
   "source": [
    "# sine function\n",
    "print(\"Sine: \",np.sin(array1))\n",
    "# logarithm\n",
    "print(\"Natural logarithm: \",np.log(array1))\n",
    "print(\"Base-10 logarithm: \",np.log10(array1))\n",
    "print(\"Base-2 logarithm: \",np.log2(array1))\n",
    "# Exponential\n",
    "print(\"Exponential: \",np.exp(array1))"
   ]
  },
  {
   "cell_type": "code",
   "execution_count": null,
   "id": "7ffe0ebb",
   "metadata": {},
   "outputs": [],
   "source": [
    "print(\"Adding two numpy arrays {array1} and {array2} together:\", array1+array2)"
   ]
  },
  {
   "cell_type": "code",
   "execution_count": null,
   "id": "e2d45eed",
   "metadata": {},
   "outputs": [],
   "source": [
    "print(f\"Adding two numpy arrays {array1} and {array2} together: {array1+array2}\")"
   ]
  },
  {
   "cell_type": "markdown",
   "id": "7edeb66c",
   "metadata": {},
   "source": [
    "### Part-02: Lab Task is to visualize the datasets or data using Matplotlib \n",
    "### builtin function Graphs "
   ]
  },
  {
   "cell_type": "markdown",
   "id": "cdd82673",
   "metadata": {},
   "source": [
    "### Generate Scatterplot\n",
    "**Let's suppose we collected age (in years), height (in cm), and weight (in kilograms) \n",
    "information from few patients visitng a clinic.**"
   ]
  },
  {
   "cell_type": "code",
   "execution_count": 8,
   "id": "70b89ee2",
   "metadata": {},
   "outputs": [],
   "source": [
    "people = ['Ann','Brandon','Chen','David','Emily','Farook',\n",
    "          'Gagan','Hamish','Imran','Julio','Katherine','Lily']\n",
    "age = [21,12,32,45,37,18,28,52,5,40,48,15]\n",
    "weight = [55,35,77,68,70,60,72,69,18,65,82,48]\n",
    "height = [160,135,170,165,173,168,175,159,105,171,155,158]"
   ]
  },
  {
   "cell_type": "code",
   "execution_count": 9,
   "id": "183f441b",
   "metadata": {},
   "outputs": [],
   "source": [
    "import matplotlib.pyplot as plt"
   ]
  },
  {
   "cell_type": "code",
   "execution_count": 10,
   "id": "d4b57ac8",
   "metadata": {},
   "outputs": [
    {
     "data": {
      "image/png": "[encoded data removed]",
      "text/plain": [
       "<Figure size 432x288 with 1 Axes>"
      ]
     },
     "metadata": {
      "needs_background": "light"
     },
     "output_type": "display_data"
    }
   ],
   "source": [
    "plt.scatter(weight, height)\n",
    "plt.title(\"Relationship between Weight and Height of Patients\")\n",
    "plt.ylabel(\"Height in Meters\")\n",
    "plt.xlabel(\"Weight of Patients in Kgs\")\n",
    "plt.show()"
   ]
  },
  {
   "cell_type": "markdown",
   "id": "de2fc765",
   "metadata": {},
   "source": [
    "### Generate Bar Plot"
   ]
  },
  {
   "cell_type": "code",
   "execution_count": 11,
   "id": "371361d4",
   "metadata": {},
   "outputs": [
    {
     "data": {
      "image/png": "[encoded data removed]",
      "text/plain": [
       "<Figure size 864x288 with 1 Axes>"
      ]
     },
     "metadata": {
      "needs_background": "light"
     },
     "output_type": "display_data"
    }
   ],
   "source": [
    "plt.figure(figsize=(12,4))\n",
    "plt.title(\"People's weight in kgs\",fontsize=16, \n",
    "          fontstyle='italic')\n",
    "\n",
    "# Main plot function 'bar'\n",
    "plt.bar(x=people,height=weight, width=0.6,\n",
    "        color='orange',edgecolor='k',alpha=0.6)\n",
    "\n",
    "plt.xlabel(\"People\",fontsize=15)\n",
    "#plt.xticks(fontsize=14,rotation=30)\n",
    "#plt.yticks(fontsize=14)\n",
    "plt.ylabel(\"Weight (in kgs)\",fontsize=15)\n",
    "plt.show()"
   ]
  },
  {
   "cell_type": "markdown",
   "id": "3495be05",
   "metadata": {},
   "source": [
    "### Generate Histogram "
   ]
  },
  {
   "cell_type": "code",
   "execution_count": 7,
   "id": "cae1cb88",
   "metadata": {},
   "outputs": [
    {
     "data": {
      "image/png": "[encoded data removed]",
      "text/plain": [
       "<Figure size 504x360 with 1 Axes>"
      ]
     },
     "metadata": {
      "needs_background": "light"
     },
     "output_type": "display_data"
    }
   ],
   "source": [
    "import numpy as np\n",
    "plt.figure(figsize=(7,5))\n",
    "\n",
    "# Main plot function 'hist'\n",
    "plt.hist(weight,color='red',edgecolor='k', alpha=0.75,bins=5)\n",
    "\n",
    "plt.title(\"Histogram of patient weight\",fontsize=18)\n",
    "plt.xlabel(\"Weight in kgs\",fontsize=15)\n",
    "#plt.xticks(fontsize=15)\n",
    "#plt.yticks(fontsize=15)\n",
    "plt.show()"
   ]
  },
  {
   "cell_type": "markdown",
   "id": "d72cfb41",
   "metadata": {},
   "source": [
    "### Part-03: Access Data from various sources and formats"
   ]
  },
  {
   "cell_type": "code",
   "execution_count": 8,
   "id": "9985c098",
   "metadata": {},
   "outputs": [],
   "source": [
    "import numpy as np\n",
    "import pandas as pd"
   ]
  },
  {
   "cell_type": "code",
   "execution_count": null,
   "id": "c4b282d0",
   "metadata": {
    "scrolled": true
   },
   "outputs": [],
   "source": [
    "df1 = pd.read_table(\"Lab01-Text.txt\")"
   ]
  },
  {
   "cell_type": "code",
   "execution_count": null,
   "id": "a6d4a7b4",
   "metadata": {},
   "outputs": [],
   "source": [
    "df1"
   ]
  },
  {
   "cell_type": "code",
   "execution_count": null,
   "id": "e8d9521b",
   "metadata": {},
   "outputs": [],
   "source": [
    "data2 = pd.read_csv(\"Lab01-Text.csv\")"
   ]
  },
  {
   "cell_type": "code",
   "execution_count": null,
   "id": "212f008e",
   "metadata": {},
   "outputs": [],
   "source": [
    "data2"
   ]
  },
  {
   "cell_type": "code",
   "execution_count": null,
   "id": "1df68dba",
   "metadata": {},
   "outputs": [],
   "source": [
    "data3 = pd.read_excel(\"Height_weight.xlsx\")"
   ]
  },
  {
   "cell_type": "code",
   "execution_count": null,
   "id": "8660c8e4",
   "metadata": {},
   "outputs": [],
   "source": [
    "data3"
   ]
  }
 ],
 "metadata": {
  "kernelspec": {
   "display_name": "Python 3 (ipykernel)",
   "language": "python",
   "name": "python3"
  },
  "language_info": {
   "codemirror_mode": {
    "name": "ipython",
    "version": 3
   },
   "file_extension": ".py",
   "mimetype": "text/x-python",
   "name": "python",
   "nbconvert_exporter": "python",
   "pygments_lexer": "ipython3",
   "version": "3.9.15"
  }
 },
 "nbformat": 4,
 "nbformat_minor": 5
}
