{
  "nbformat": 4,
  "nbformat_minor": 0,
  "metadata": {
    "colab": {
      "provenance": [],
      "authorship_tag": "ABX9TyOIOiq852PCv19xGFcxQRWC",
      "include_colab_link": true
    },
    "kernelspec": {
      "name": "python3",
      "display_name": "Python 3"
    },
    "language_info": {
      "name": "python"
    }
  },
  "cells": [
    {
      "cell_type": "markdown",
      "metadata": {
        "id": "view-in-github",
        "colab_type": "text"
      },
      "source": [
        "<a href=\"https://colab.research.google.com/github/2303a510c1/AIML-2303A510C1/blob/main/lab03.ipynb\" target=\"_parent\"><img src=\"https://colab.research.google.com/assets/colab-badge.svg\" alt=\"Open In Colab\"/></a>"
      ]
    },
    {
      "cell_type": "markdown",
      "source": [
        "1 Implement the AI Game Strategy\n",
        "\n",
        "Part 1 –(a). Install the Python Libraries required for Game Strategy. [CO2]\n",
        "\n",
        "Install the python libraries - collections, random, math, functools, cache = functools.lru cache(10**6) Implement a Game Class Constructor using action, is terminal, result, utility functions A game is similar to a problem, but it has a terminal test instead of a goal test, and a utility for each terminal state. Create a game subclass and implement actions, result, is terminal, and utility. You will also need to set the initial attribute to the initial state; this can be done in the constructor."
      ],
      "metadata": {
        "id": "1zMgcOo-NdAK"
      }
    },
    {
      "cell_type": "code",
      "source": [
        "class Game:\n",
        "  def actions(self, state ):\n",
        "         \"\"\"Return a collection of the allowable moves from this state .\"\"\"\n",
        "         raise NotImplementedError\n",
        "  def result(self, state , move ):\n",
        "        \"\"\"Return the state that results from making a move from a state .\"\"\"\n",
        "        raise NotImplementedError\n",
        "  def is_terminal (self, state ):\n",
        "         \"\"\"Return True i f this is a final state for the game.\"\"\"\n",
        "         return not self.actions(state)\n",
        "  def utility(self, state , player ):\n",
        "        \"\"\"Return the value of this final state to player .\"\"\"\n",
        "        raise NotImplementedError"
      ],
      "metadata": {
        "id": "Q2x3fkrENfBr"
      },
      "execution_count": null,
      "outputs": []
    },
    {
      "cell_type": "markdown",
      "source": [
        "Implement a Player Game using the Game Class Constructor."
      ],
      "metadata": {
        "id": "MDD4b7EsN-DK"
      }
    },
    {
      "cell_type": "code",
      "source": [
        "def play_game (game , strategies : dict , verbose=False ):\n",
        "      \"\"\"Play a turn−taking game. ‘strategies ‘ is a {player name: function} dict ,\n",
        "      where function(state , game) is used to get the player ’s move.\"\"\"\n",
        "      state = game.initial\n",
        "      while not game.is_terminal (state ):\n",
        "         player = state.to_move\n",
        "         move = strategies [player ](game , state)\n",
        "         state = game.result(state , move)\n",
        "         if verbose:\n",
        "           print('Player', player , 'move:', move)\n",
        "           print(state)\n",
        "           return state"
      ],
      "metadata": {
        "id": "07hZKujCOAlJ"
      },
      "execution_count": null,
      "outputs": []
    },
    {
      "cell_type": "markdown",
      "source": [
        "Part 2 – Implement the Game Strategy Algorithms. [CO3]\n",
        "\n",
        "Implement the MiniMax Search Algorithm"
      ],
      "metadata": {
        "id": "UfKfIcMPOM_t"
      }
    },
    {
      "cell_type": "code",
      "source": [
        "import math\n",
        "def minimax_search (game , state ):\n",
        "      \"\"\"Search game tree to determine best move; return (value , move) pair .\"\"\"\n",
        "      player = state.to_move\n",
        "      def max_value (state ):\n",
        "        if game.is_terminal (state ):\n",
        "            return game.utility(state , player), None\n",
        "        v, move = -infinity , None\n",
        "        for a in game.actions(state ):\n",
        "            v2 , _ = min_value (game.result(state , a))\n",
        "            if v2 > v:\n",
        "                v, move = v2 , a\n",
        "        return v, move\n",
        "        def min_value (state ):\n",
        "         if game.is_terminal (state ):\n",
        "              return game.utility(state , player), None\n",
        "         v, move = +infinity , None\n",
        "         for a in game.actions(state ):\n",
        "             v2, _ = max_value (game.result(state , a))\n",
        "             if v2 < v:\n",
        "                 v, move = v2 , a\n",
        "         return v, move\n",
        "         return max_value (state)\n",
        "infinity = math.inf"
      ],
      "metadata": {
        "id": "NaUMEjNCOPrL"
      },
      "execution_count": null,
      "outputs": []
    },
    {
      "cell_type": "markdown",
      "source": [
        "Implement the Alpha-Beta Search Algorithm\n",
        "\n"
      ],
      "metadata": {
        "id": "PSc6044ROkzx"
      }
    },
    {
      "cell_type": "code",
      "source": [
        "\n",
        "def alphabeta_search (game , state ):\n",
        "      \"\"\"Search game to determine best action ; use alpha−beta pruning.\n",
        "      Search all the way to the leaves .\"\"\"\n",
        "      player = state.to_move\n",
        "      def max_value (state , alpha , beta ):\n",
        "         if game.is_terminal (state ):\n",
        "             return game.utility(state , player), None\n",
        "         v, move = -infinity , None\n",
        "         for a in game.actions(state ):\n",
        "             v2 , = min_value (game.result(state , a), alpha , beta)\n",
        "             if v2 > v:\n",
        "                 v, move = v2 , a\n",
        "             alpha = max(alpha , v)\n",
        "             if v >= beta:\n",
        "                 return v, move\n",
        "         return v, move\n",
        "      def min_value (state , alpha , beta ):\n",
        "         if game.is_terminal (state ):\n",
        "             return game.utility(state , player), None\n",
        "         v, move = +infinity , None\n",
        "         for a in game.actions(state ):\n",
        "              v2, _ = max_value(game.result(state , a), alpha , beta)\n",
        "              if v2 < v:\n",
        "                  v, move = v2 , a\n",
        "              beta = min(beta , v)\n",
        "              if v <= alpha:\n",
        "                   return v, move\n",
        "         return v, move\n",
        "         return max_value(state , -infinity , +infinity )"
      ],
      "metadata": {
        "id": "IptO6A8iOmpz"
      },
      "execution_count": null,
      "outputs": []
    },
    {
      "cell_type": "markdown",
      "source": [
        "Part 3 – Implement the Game Strategy using TicTocToe. [CO\n",
        "\n",
        "Implement TicToCToe game using init , actions, result, is terminal, utility, display constructors"
      ],
      "metadata": {
        "id": "dqTpS41EO9Ox"
      }
    },
    {
      "cell_type": "code",
      "source": [
        "\n",
        "class Game:\n",
        "    \"\"\"A base class for games.\"\"\"\n",
        "    def _init_(self):\n",
        "      pass\n",
        "\n",
        "class TicTacToe(Game):\n",
        "     \"\"\"Play TicTacToe on an ‘height ‘ by ‘width‘ board, needing ‘k ‘ in a row to win.\n",
        "     ’X’ plays f irs t against ’O’ .\"\"\"\n",
        "\n",
        "     def _init_ (self, height =3, width =3, k=3):\n",
        "         self.k = k # k in a row\n",
        "         self.squares = {(x, y) for x in range(width) for y in range(height)}\n",
        "         self.initial = Board(height=height , width=width , to_move ='X', utility =0)\n",
        "     def actions(self, board ):\n",
        "        \"\"\"Legal moves are any square not yet taken.\"\"\"\n",
        "        return self.squares - set(board)\n",
        "     def result(self, board , square ):\n",
        "         \"\"\"Place a marker for current player on square.\"\"\"\n",
        "         player = board.to_move\n",
        "         board = board.new({square: player}, to_move =('O' if player == 'X' else 'X'))\n",
        "         win = self.k_in_row (board , player , square , self.k)\n",
        "         board.utility = (0 if not win else +1 if player == 'X' else -1)\n",
        "         return board\n",
        "     def utility(self, board , player ):\n",
        "          \"\"\"Return the value to player ; 1 for win, −1 for loss , 0 otherwise .\"\"\"\n",
        "          return board.utility if player == 'X' else -board.utility\n",
        "     def is_terminal (self, board ):\n",
        "          \"\"\"A board is a terminal state i f i t is won or there are no empty squares .\"\"\"\n",
        "          return board.utility != 0 or len(self.squares) == len(board)\n",
        "     def display(self, board ):\n",
        "         print(board)\n",
        "     def k_in_row (board , player , square , k):\n",
        "           \"\"\"True i f player has k pieces in a line through square.\"\"\"\n",
        "     def in_row (x, y, dx , dy):\n",
        "           return 0 if board[x, y] != player else 1 + in_row (x + dx , y + dy , dx , dy)\n",
        "           return any(in_row(*square , dx , dy) + in_row(*square , -dx , -dy)-1>=k\n",
        "             for (dx , dy) in ((0, 1), (1, 0), (1, 1), (1, -1)))"
      ],
      "metadata": {
        "id": "ldwEcdxSO_CI"
      },
      "execution_count": null,
      "outputs": []
    },
    {
      "cell_type": "markdown",
      "source": [
        "Implement a Game Board using defaultdict using init , new, missing , hash , repr\n",
        "\n"
      ],
      "metadata": {
        "id": "QFOg52qbPejk"
      }
    },
    {
      "cell_type": "code",
      "source": [
        "\n",
        "from collections import defaultdict\n",
        "class Board( defaultdict ):\n",
        "    \"\"\"A board has the player to move, a cached ut il ity value ,\n",
        "    and a dict of {(x , y): player} entries , where player is ’X’ or ’O’ .\"\"\"\n",
        "    empty = '.'\n",
        "    off = '#'\n",
        "\n",
        "    def _init_ (self, width =8, height =8, to_move =None , **kwds ):\n",
        "       self.dict.update(width=width , height=height , to_move = to_move , **kwds)\n",
        "    def new(self, changes: dict, **kwds) -> 'Board':\n",
        "           \"Given a dict of {(x, y): contents} changes , return a new Board with the changes.\"\n",
        "           board = Board(width=self.width , height=self.height , **kwds)\n",
        "           board.update(self)\n",
        "           board.update(changes)\n",
        "           return board\n",
        "    def missing(self, loc ):\n",
        "        x, y = loc\n",
        "        if 0 <= x < self.width and 0 <= y < self.height:\n",
        "            return self.empty\n",
        "        else:\n",
        "            return self.off\n",
        "    def _hash_(self):\n",
        "            return hash(tuple(sorted(self.items ()))) + hash(self. to_move )\n",
        "    def _repr_(self):\n",
        "     def row(y):\n",
        "      return ' '.join(self[x, y] for x in range(self.width ))\n",
        "     return '\\n'.join(map(row , range(self.height ))) + '\\n'"
      ],
      "metadata": {
        "id": "nUMfRfMTPf4G"
      },
      "execution_count": null,
      "outputs": []
    },
    {
      "cell_type": "markdown",
      "source": [
        "Implement random player(game,state) and player(search algorithm"
      ],
      "metadata": {
        "id": "YbaeVhhZPu2Z"
      }
    },
    {
      "cell_type": "code",
      "source": [
        "\n",
        "def random_player (game , state ): return random.choice(list(game.actions(state )))\n",
        "def player( search_algorithm ):\n",
        "    \"\"\"A game player who uses the specified search algorithm\"\"\"\n",
        "    return lambda game , state: search_algorithm (game , state )[1]"
      ],
      "metadata": {
        "id": "w_vz-BCdPxKp"
      },
      "execution_count": null,
      "outputs": []
    }
  ]
}